{
 "cells": [
  {
   "cell_type": "code",
   "execution_count": 1,
   "id": "a63a3d8f",
   "metadata": {},
   "outputs": [
    {
     "ename": "ModuleNotFoundError",
     "evalue": "No module named 'IMLearn.model_selection'",
     "output_type": "error",
     "traceback": [
      "\u001b[1;31m---------------------------------------------------------------------------\u001b[0m",
      "\u001b[1;31mModuleNotFoundError\u001b[0m                       Traceback (most recent call last)",
      "\u001b[1;32m~\\AppData\\Local\\Temp\\ipykernel_12376\\1244842751.py\u001b[0m in \u001b[0;36m<module>\u001b[1;34m\u001b[0m\n\u001b[0;32m      5\u001b[0m \u001b[1;32mfrom\u001b[0m \u001b[0mIMLearn\u001b[0m\u001b[1;33m.\u001b[0m\u001b[0mmetrics\u001b[0m \u001b[1;32mimport\u001b[0m \u001b[0mmean_square_error\u001b[0m\u001b[1;33m\u001b[0m\u001b[1;33m\u001b[0m\u001b[0m\n\u001b[0;32m      6\u001b[0m \u001b[1;32mfrom\u001b[0m \u001b[0mIMLearn\u001b[0m\u001b[1;33m.\u001b[0m\u001b[0mutils\u001b[0m \u001b[1;32mimport\u001b[0m \u001b[0msplit_train_test\u001b[0m\u001b[1;33m\u001b[0m\u001b[1;33m\u001b[0m\u001b[0m\n\u001b[1;32m----> 7\u001b[1;33m \u001b[1;32mfrom\u001b[0m \u001b[0mIMLearn\u001b[0m\u001b[1;33m.\u001b[0m\u001b[0mmodel_selection\u001b[0m \u001b[1;32mimport\u001b[0m \u001b[0mcross_validate\u001b[0m\u001b[1;33m\u001b[0m\u001b[1;33m\u001b[0m\u001b[0m\n\u001b[0m\u001b[0;32m      8\u001b[0m \u001b[1;32mfrom\u001b[0m \u001b[0mIMLearn\u001b[0m\u001b[1;33m.\u001b[0m\u001b[0mlearners\u001b[0m\u001b[1;33m.\u001b[0m\u001b[0mregressors\u001b[0m \u001b[1;32mimport\u001b[0m \u001b[0mPolynomialFitting\u001b[0m\u001b[1;33m,\u001b[0m \u001b[0mLinearRegression\u001b[0m\u001b[1;33m,\u001b[0m \u001b[0mRidgeRegression\u001b[0m\u001b[1;33m\u001b[0m\u001b[1;33m\u001b[0m\u001b[0m\n\u001b[0;32m      9\u001b[0m \u001b[1;32mfrom\u001b[0m \u001b[0msklearn\u001b[0m\u001b[1;33m.\u001b[0m\u001b[0mlinear_model\u001b[0m \u001b[1;32mimport\u001b[0m \u001b[0mLasso\u001b[0m\u001b[1;33m\u001b[0m\u001b[1;33m\u001b[0m\u001b[0m\n",
      "\u001b[1;31mModuleNotFoundError\u001b[0m: No module named 'IMLearn.model_selection'"
     ]
    }
   ],
   "source": [
    "from __future__ import annotations\n",
    "import numpy as np\n",
    "import pandas as pd\n",
    "from sklearn import datasets\n",
    "from IMLearn.metrics import mean_square_error\n",
    "from IMLearn.utils import split_train_test\n",
    "from IMLearn.model_selection import cross_validate\n",
    "from IMLearn.learners.regressors import PolynomialFitting, LinearRegression, RidgeRegression\n",
    "from sklearn.linear_model import Lasso\n",
    "\n",
    "from utils import *\n",
    "import plotly.graph_objects as go\n",
    "from plotly.subplots import make_subplots\n",
    "\n",
    "\n",
    "def select_polynomial_degree(n_samples: int = 100, noise: float = 5):\n",
    "    \"\"\"\n",
    "    Simulate data from a polynomial model and use cross-validation to select the best fitting degree\n",
    "\n",
    "    Parameters\n",
    "    ----------\n",
    "    n_samples: int, default=100\n",
    "        Number of samples to generate\n",
    "\n",
    "    noise: float, default = 5\n",
    "        Noise level to simulate in responses\n",
    "    \"\"\"\n",
    "    # Question 1 - Generate dataset for model f(x)=(x+3)(x+2)(x+1)(x-1)(x-2) + eps for eps Gaussian noise\n",
    "    # and split into training- and testing portions\n",
    "    raise NotImplementedError()\n",
    "\n",
    "    # Question 2 - Perform CV for polynomial fitting with degrees 0,1,...,10\n",
    "    raise NotImplementedError()\n",
    "\n",
    "    # Question 3 - Using best value of k, fit a k-degree polynomial model and report test error\n",
    "    raise NotImplementedError()\n",
    "\n",
    "\n",
    "def select_regularization_parameter(n_samples: int = 50, n_evaluations: int = 500):\n",
    "    \"\"\"\n",
    "    Using sklearn's diabetes dataset use cross-validation to select the best fitting regularization parameter\n",
    "    values for Ridge and Lasso regressions\n",
    "\n",
    "    Parameters\n",
    "    ----------\n",
    "    n_samples: int, default=50\n",
    "        Number of samples to generate\n",
    "\n",
    "    n_evaluations: int, default = 500\n",
    "        Number of regularization parameter values to evaluate for each of the algorithms\n",
    "    \"\"\"\n",
    "    # Question 6 - Load diabetes dataset and split into training and testing portions\n",
    "    raise NotImplementedError()\n",
    "\n",
    "    # Question 7 - Perform CV for different values of the regularization parameter for Ridge and Lasso regressions\n",
    "    raise NotImplementedError()\n",
    "\n",
    "    # Question 8 - Compare best Ridge model, best Lasso model and Least Squares model\n",
    "    raise NotImplementedError()\n",
    "\n",
    "\n",
    "if __name__ == '__main__':\n",
    "    np.random.seed(0)\n",
    "    raise NotImplementedError()"
   ]
  }
 ],
 "metadata": {
  "kernelspec": {
   "display_name": "Python 3 (ipykernel)",
   "language": "python",
   "name": "python3"
  },
  "language_info": {
   "codemirror_mode": {
    "name": "ipython",
    "version": 3
   },
   "file_extension": ".py",
   "mimetype": "text/x-python",
   "name": "python",
   "nbconvert_exporter": "python",
   "pygments_lexer": "ipython3",
   "version": "3.7.11"
  }
 },
 "nbformat": 4,
 "nbformat_minor": 5
}
